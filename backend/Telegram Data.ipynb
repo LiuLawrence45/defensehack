{
 "cells": [
  {
   "cell_type": "markdown",
   "id": "f74fe9bc-1ab6-4b4b-a2d2-8f6cc53858a1",
   "metadata": {},
   "source": [
    "# Vannevar Labs Dataset for NatSec Hackathon 2024"
   ]
  },
  {
   "cell_type": "markdown",
   "id": "b928fbf7-6d4a-43e3-b978-37a668b4ab75",
   "metadata": {},
   "source": [
    "Thanks for participating in the hackathon! This notebook is available at https://vl-nat-sec-hackathon-may-2024.s3.us-east-2.amazonaws.com/vl-data-download.ipynb, and we will be updating it over the course of the week with additional data and resources.\n",
    "\n",
    "The dataset we are providing are of Russian social media posts from Telegram and VK that are related to current geopolitical events, a lot of them specifically about events occurring in Ukraine. The data in `attachment_urls` are media files that we will be providing in the same s3 bucket later this week.\n",
    "\n",
    "If there are any issues with data access please email charu@vannevarlabs.com"
   ]
  },
  {
   "cell_type": "code",
   "execution_count": null,
   "id": "4b4a30f3-9a27-40cc-9c6c-9cf40140d98c",
   "metadata": {
    "tags": []
   },
   "outputs": [],
   "source": [
    "!pip install boto3 botocore pandas"
   ]
  },
  {
   "cell_type": "code",
   "execution_count": 2,
   "id": "88a135e1-30c3-4ffb-988d-2b0590349b7a",
   "metadata": {
    "tags": []
   },
   "outputs": [],
   "source": [
    "import boto3\n",
    "import pandas as pd\n",
    "from io import BytesIO\n",
    "from botocore import UNSIGNED\n",
    "from botocore.config import Config\n",
    "\n",
    "\n",
    "# # Create a boto3 session with an anonymous user\n",
    "# s3 = boto3.client('s3', config=Config(signature_version=UNSIGNED))\n",
    "\n",
    "# bucket_name = 'vl-nat-sec-hackathon-may-2024'\n",
    "# file_key = 'russia_social_media.csv'\n",
    "\n",
    "# # Get the object from S3\n",
    "# response = s3.get_object(Bucket=bucket_name, Key=file_key)\n",
    "\n",
    "# file_content = response['Body'].read()\n",
    "\n",
    "# Also available here: https://vl-nat-sec-hackathon-may-2024.s3.us-east-2.amazonaws.com/russia_social_media.csv\n",
    "\n"
   ]
  },
  {
   "cell_type": "code",
   "execution_count": 5,
   "id": "fc8ad7c1-9e9b-4062-8799-909e363fb555",
   "metadata": {
    "tags": []
   },
   "outputs": [
    {
     "name": "stdout",
     "output_type": "stream",
     "text": [
      "0    https://youtu.be/1H65fWYoaV8?si=sFwduH6AodNglB...\n",
      "1    🇷🇺🇺🇦The consequences of shelling of residentia...\n",
      "2    WE HAVE \"PLATES\".\\nDear subscribers! We share ...\n",
      "3    In Kamchatka, a formation of ships guarding th...\n",
      "4    How the traitor Kuzminov was eliminated. The c...\n",
      "Name: translation, dtype: object\n"
     ]
    }
   ],
   "source": [
    "# Load the file content into a pandas DataFrame\n",
    "data = pd.read_csv('../../deftech/russia_social_media.csv')"
   ]
  },
  {
   "cell_type": "code",
   "execution_count": 14,
   "id": "7c8e0a0a",
   "metadata": {},
   "outputs": [
    {
     "name": "stdout",
     "output_type": "stream",
     "text": [
      "210 years since the Russian Army entered ParisParis was the largest city in Europe with a population of 714,600 people. The number of defenders of the city is estimated by historians from 28 to 45 thousand. The allies approached Paris from the northeast in three main columns with a total number of up to 100 thousand soldiers (of which 63 thousand were Russian).\n",
      "\n",
      "The assault on the city lasted for 24 hours; the capitulation of Paris was signed at 2 a.m. on March 31 in the village of Lavillette.\n",
      "\n",
      "At noon on March 19 (31), 1814, cavalry squadrons led by Emperor Alexander I triumphantly entered the capital of France. “All the streets along which the allies had to pass, and all the streets adjacent to them, were filled with people who occupied even the roofs of the houses.”\n",
      "\n",
      "The era of the Napoleonic Wars is over. The Russian Army reached from Moscow, which was burned in a fire, to the enemy’s capital. Two majors\n",
      "⚡️Ukraine, in the confrontation with Russia, defends not only its state border and sovereignty, but the global values of humanity - Green Petya the First. Subscribe\n",
      "One of the flights around Belgorod during another shelling of the city by Ukrainian formations using MLRS.\n",
      "As you can see, concrete shelters played their role and protected people.\n",
      "Military Informant\n",
      "In Ukraine, some law enforcement officers and civil servants will lose a reprieve from mobilization, - People's Deputy Lozinsky\n",
      "\n",
      "“A lot of categories have lost their deferments. In particular, this is part of civil servants of different ranks, different structures. Representatives of law enforcement agencies, such as the State Bureau of Investigation. These decisions have now been made. This is potentially several hundred thousand people. But certain changes are still possible,”\n",
      "- he said.\n",
      "\n",
      "Lozinsky also said that the threshold for mobilization in Ukraine will be 25 years.\n",
      "🖼🎨Modern Art in the Middle East🔸To understand the origins of Arab modernism, it is important to return to the spirit of optimism that arose in the post-war era when, having gained independence from imperial masters, artists of the Middle East and North Africa began the search for a pan-Arab identity. Cultural movements such as the New Vision group in Iraq, led by the innovative artist Dia Al-Azzawi, championed the idea of an Arab modernism united on ideological grounds rather than style. Since 2003, the Middle Eastern market for works has been growing steadily: prices for paintings by artist Farah Al-Nissa Zeid reached £2.7 million in 2019. The opening of the Louvre Abu Dhabi, the success of the Arab Museum of Modern Art in Qatar and major exhibitions by artists such as Salua Rauda Shukair show that in the MENA region there is a great demand for art.🔸The big trend in the Middle East right now is women artists. There are many works being written to empower women. For example, Afifa Aleibi and Shirin Neshat are amazing artists who have become a springboard for the younger generation. In addition, the leading trend in contemporary art is socio-political motives. But one of the most important themes that continues to dominate the market is Arabic calligraphy. For many years, countries such as Egypt, Lebanon and Syria have been the leading producers of contemporary art in the Middle East.\n",
      "\n",
      "All the same.\n",
      "The main thing for the day.🔺Moscow demands an answer from the “Kiev regime”;🔺Exclusive: “Krasnopol” will catch up everywhere;🔺Seizure of power in Ukraine;🔺Macron will be harshly mocked on Belgian television;🔺And they will mock again;🔺Severe fire in the Krasnodar region;🔺Fearless doctors twisted an inadequate person;🔺 KTOv Dagestan; 🔺Germany has run out of Taurus;🔺The mayor of Paris is a Russophobe;🔺Russian Foreign Ministry statement by the mayor of Paris;🔺Former “traditions” have been remembered in Germany;🔺The Soyuz-2.1b launch vehicle has launched;🔺Makrons deflated;🔺Mass demonstration in Pakistan;🔺Robbery in English; Signature get out on Telegram SOLOVIOV!\n",
      "Ukraine.ruPhoto, We publish the full text of the statement of the Russian Ministry of Foreign Affairs⚡️ Committed on March 22 in Krasnogorsk and shock... The press service of the SBU responded to statements by the Russian Ministry of Foreign Affairs about accusing Ukraine of the terrorist attack in Crocus. It says that “the Russian Federation can actually only do one statement that is worth attention is to announce to the whole world your defeat in the war.”\n",
      "\n",
      "In addition, the SBU stated that “together with our brothers-in-arms from the Defense and Security Forces, we are doing everything possible to speed up this time.” Shtosh.\n",
      "Be'er Sheva....\n",
      "\n",
      "Documenting the execution of an asshole with a knife... he was wounded and treated with dust...\n",
      "🔴Attention, 7 minutes before takeoff🔴‼️URGENTLY connect the new online radar and follow the movement of missiles live - https://www.officialradar.com\n",
      "Meanwhile, our soldiers have taken to the rear at least the third captured American M2A2 Bradley ODS-SA infantry fighting vehicle. All from the Avdeevsky direction. Moreover, this particular one had not previously appeared among the losses.\n",
      "⚡️Over the past 24 hours, Ukrainian armed forces have shelled residential areas of the DPR.\n",
      "\n",
      "Thus, as a result of massive artillery shelling of the Petrovsky district of Donetsk, a man born in 1980 was wounded.\n",
      "\n",
      "In addition, Ukrainian militants carried out shelling throughout the day in the Nikitovsky district of Gorlovka, as well as the Kirovsky district of Donetsk.\n",
      "\n",
      "Shelling of DPR areas was carried out using 155 mm caliber artillery, including cluster warheads.\n",
      "\n",
      "In total, 1 residential building and 1 civil infrastructure facility were damaged from DPR shelling - RF Investigative Committee🎥Vesti.Donetsk|Suggest news\n",
      "❗️The barn burned down, the hut was on fire. https://t.me/foxandraven/18698TelegramFox Z Raven#USA⚡️🚧You won’t believe it, but in Oklahoma, USA, a barge crashed into a bridge@foxandravenVIEW MESSAGE\n",
      "⚡The 24-year-old defender is a student of Simferopol and Dnipro football, and started his professional career in \"Zora\", where he mostly played for the U-19 team⬇️https://akzent.zp.ua/klub-iz-upl-pidpisav- tsentralnogo-zahisnika-zaporizkogo-metalurga/akzent.zp.ua UPL club signs central defender of Zaporizhzhya \"Metalurga\" Minai has signed a contract with former defender of Zaporizhzhya \"Metalurga\" Dmytro Piddubny. This was reported by UPL.TV correspondent Yarema Chuyko under\n",
      "The Ukrainian military are afraid to engage in contact battles with fighters of the battalion of the 291st regiment of the Russian Armed Forces \"Akhmat-Vostok\" and immediately run away, this has allowed the Akhmatova soldiers to advance seven kilometers in the Zaporozhye direction towards the village of Rabotino since the beginning of the New Year, the commander of the aerial reconnaissance battalion told RIA Novosti with the call sign “Kind”https://vk.com/video-66833222_456301556VK VideoVideo by Gorlovka Self-DefenseWatch Video by Gorlovka Self-Defense 1 min 18 s from 31 March 2024 online in HD for free in the VK catalog without signing up! Views: 181.\n",
      "Losses of Russians for the past day💥💪\n",
      "Does anyone at least exchange army weapons after such a shooting?😅https://t.me/shawarma_unicorn/7450TelegramShawarma UnicornReview of the tired Saiga 030🤣a little bit about the experience of almost 6 years of operation🤷🏻‍♂️2:00VIEW MESSAGE\n",
      "Another angle of the incident\n",
      "In the Black Sea and the Black Sea region, a large concentration of drones and NATO reconnaissance aircraft is once again observed. Military Informant\n",
      "🇹🇷The mayors of Ankara and Istanbul Mansur Yavas and Ekrem Imamoglu, representing the opposition Republican People's Party, are in the lead in local elections in Turkey on Sunday.\n",
      "https://telegra.ph/SYOMCHENKO-Vladimir-Viktorovich-03-30 SUBSCRIBE TO ZACHISTKTelegraph SYOMCHENKO Vladimir Viktorovich Punisher, Ukronazi and just a boar, fed on neo-Nazi gruel. Polluted brains, twisted ideas about moral criteria and...\n",
      "❗🇷🇺🇺🇦Gangs of the Armed Forces of Ukraine shelled the village of Tyotkino in the Glushkovsky district of the Kursk region. A woman was wounded.⠀“The village of Tyotkino, Glushkovsky district, was shelled from the Ukrainian side. A local resident received shrapnel wounds. All necessary medical care is provided.\n",
      "\n",
      "As a result of the shelling, a fire occurred on the territory of the enterprise located in the village. Rescuers quickly put out the fire. I thank all services for their work!\n",
      "\n",
      "5 apartment buildings were also damaged. We will definitely provide assistance to the owners in restoring their property.” — the head of the region, Roman Starovoyt, said at 20.34 Moscow time.\n",
      "The defeat of another American 155-mm howitzer M777 by a high-precision \"Krasnopol\". District of the city of Konstantinovka, artillerymen of the 6th motorized rifle division are working. @stepnoy_veter\n",
      "⛱Demand for Crimea this summer has tripled compared to last year and has almost returned to the pre-Covid period - tour operators. Crimea is actively booked due to the good price tag for vacations and the variety of discounts and promotions. Yes, planes don’t fly to us. But Crimean hotels offer the most attractive rates on the entire Black Sea coast. Crimea is from 15% to 75% cheaper than Anapa and Gelendzhik. There is no need to talk about Sochi; they are completely crazy with greed. Most often, housing is booked in Yalta, Sevastopol and Alushta. So hurry up, guys. Early booking is a steep price. It will be more expensive later. Read from your colleagues for details and how to get there. And Yalta is gorgeous to everyone! We look forward to your visit (together with Van Gogh👀).@cho_opyat\n",
      "The US Navy overspent $400 million on aid to Ukraine and then manually (!) changed the records to correct the appearance of misappropriated funds, according to a new report from the Pentagon Inspector General.\n",
      "‼️🇷🇺FSB special forces blocked armed terrorists in several apartments of residential buildings in Makhachkala and Kaspiysk, a CTO regime was introduced▪️In Dagestan, security authorities received information about the whereabouts of armed persons involved in terrorist activities.▪️They were blocked by FSB special forces in several apartments in residential areas Makhachkala and Kaspiysk.▪️An anti-terrorist operation regime has been introduced in the Leninsky and Sovetsky districts of Makhachkala and Kaspiysk.t.me/RVvoenkor\n",
      "The artillery of the Sever-V brigade covered the position of enemy UAV operators in Grigorovka.\n",
      "nan\n",
      "Our troops destroyed the bridge in Kurakhovo. The railway crossing, used by the enemy for the delivery of ammunition, l/s and equipment and the movement of personnel in the direction of the occupied Kurakhovo Armed Forces of Ukraine, ceased to exist...\n",
      "Vladimir Zelensky paid tribute to the memory of the Ukrainians who died during the occupation of the Kyiv region. Two years ago, on February 27, the Russians entered Bucha. During the 33 days of occupation in the Buchansky region, more than 9 thousand war crimes were committed, more than 1,400 civilians were killed, including 37 children.\n",
      "Forwarded from: Levy Bereg Kyiv\n",
      "Klitschko is sure that the Russian army will attack Kyiv again, - BILD. Kyiv was and remains a target for Putin, because the capital is the heart of the country. But we are much better prepared for this than two years ago. If Putin makes such a decision, it will be a bloody decision. The mayor of Kyiv also called on the West to strengthen support for Ukraine. We urgently need more air defense equipment, more anti-aircraft missiles, Klitschko said. ᅠSuggest newsSubscribe\n",
      "Ukraine conflict destroys French farmers - New York Times\n",
      "\n",
      "Farmer Fabrice Monnery complains that the French economy minister promised to \"destroy economically\" Russia in 2022, but the situation in Ukraine has hit French farmers hard.\n",
      "\n",
      "In France, farmers' protests have gained momentum in recent weeks.\n",
      "\n",
      "They demand recognition of the importance of their activities and condemn the government's agricultural policy, which they believe makes them uncompetitive. @Sputnik_Tajikistan\n",
      "We are also amazed. But there is a nuance...NGP exploration\n",
      "9 MISSILES AND 9 ATTACK UAVS WERE BROKEN DOWN On the night of March 31, 2024, the Russian invaders attacked with 14 Kh-101/Kh-555 cruise missiles from Tu-95ms strategic aviation aircraft (launch area of the Saratov region . - Russian Federation), 11 Shahed-type strike UAVs (launch areas of Primorsko-Akhtarsk - Russian Federation, Crimea), Iskander-M ballistic missile (Crimea) and Kh-59 guided air missile (TOT of Zaporizhzhya Region) Anti-aircraft missile units and fighter aircraft of the Air Force, mobile fire groups, and radio-electronic warfare equipment of the Defense Forces of Ukraine were involved in repelling the air attack.\n",
      "\n",
      "As a result of the anti-aircraft battle, 18 aerial targets were destroyed: 9 Kh-101/Kh-555 cruise missiles and 9 Shahed-136/131 attack UAVs.\n",
      "\n",
      "Thank you to the defenders of the sky for the combat work! Together - to victory!\n",
      "🇺🇦NaVi became the first CS2 world champions\n",
      "Good morning Country!\n",
      "\n",
      "In Odessa tonight, the lights went out in a strange way. In picture 1 you can see how the substation in the Limansky district is burning out.\n",
      "\n",
      "Decommunization continues. Revenge of goodwill\n",
      "A civilian died in the Belgorod region, Gladkov reported. The Ukrainian Armed Forces shelled the village of Dunayka, Grayvoronsky urban district. Four private houses and three cars were damaged, and gas and electricity supply lines were damaged.\n",
      "Notepad Russia 18+Video, Major General of the Ministry of Internal Affairs Ovchinsky: Crocus terrorists could have been chipped\n",
      "\n",
      "“These bastards have been turned off...The only positive consequence of what is happening may be a complete ban on federal television. Recognize TV channels as foreign agents and homosexuals as tools of an enemy alien psychopath whose goal is to deprive citizens of their minds. It turns out that Alla Pugacheva was not the worst phenomenon on central TV. Here's another great one:\n",
      "Forwarded from: SHOT\n",
      "An inadequate man with scissors attacked patients and doctors in a hospital in the Tyumen region.\n",
      "\n",
      "On the night of March 30-31, the man was taken to Hospital No. 4 in the city of Ishim. In the emergency department, he began to behave inappropriately: he took scissors out of his pocket and began waving them in front of the medical staff, and then rushed at the patients.\n",
      "\n",
      "As a result, the security guard, general practitioner and ENT doctor were able to neutralize and hold the man until the police arrived. No one was hurt. Subscribe to SHOTSend news\n",
      "nan\n",
      "Vitaly, a boy from Tomsk, sent a drawing to Rassvet and Kolovrat. I'll give it to you when we meet.\n",
      "\n",
      "Read the letter and be sure to read the dialogues in the picture.\n",
      "\n",
      "Vitaly, our fighters will not allow you to grow up and go to fight too. It's up to you to build the world! Our world!\n"
     ]
    },
    {
     "data": {
      "text/plain": [
       "[None,\n",
       " None,\n",
       " None,\n",
       " None,\n",
       " None,\n",
       " None,\n",
       " None,\n",
       " None,\n",
       " None,\n",
       " None,\n",
       " None,\n",
       " None,\n",
       " None,\n",
       " None,\n",
       " None,\n",
       " None,\n",
       " None,\n",
       " None,\n",
       " None,\n",
       " None,\n",
       " None,\n",
       " None,\n",
       " None,\n",
       " None,\n",
       " None,\n",
       " None,\n",
       " None,\n",
       " None,\n",
       " None,\n",
       " None,\n",
       " None,\n",
       " None,\n",
       " None,\n",
       " None,\n",
       " None,\n",
       " None,\n",
       " None,\n",
       " None,\n",
       " None,\n",
       " None]"
      ]
     },
     "execution_count": 14,
     "metadata": {},
     "output_type": "execute_result"
    }
   ],
   "source": [
    "[print(data['translation'][x].replace(\"\\n\", \"\") + \"\\n\\n\") for x in range(140, 180) ]\n"
   ]
  },
  {
   "cell_type": "code",
   "execution_count": 1,
   "id": "db9c432c-3414-48af-aa03-86120790268f",
   "metadata": {
    "tags": []
   },
   "outputs": [],
   "source": [
    "# In the same way, you can access the images in attachment_urls using s3.get_object - the urls should be 1-1 with the paths in s3\n",
    "\n",
    "# s3 = boto3.client('s3', config=Config(signature_version=UNSIGNED))\n",
    "\n",
    "# bucket_name = 'vl-nat-sec-hackathon-may-2024'\n",
    "# file_key = 'media/telegram-web/...'\n",
    "\n",
    "# # Get the object from S3\n",
    "# response = s3.get_object(Bucket=bucket_name, Key=file_key)\n",
    "\n",
    "\n"
   ]
  }
 ],
 "metadata": {
  "kernelspec": {
   "display_name": "Python 3 (ipykernel)",
   "language": "python",
   "name": "python3"
  },
  "language_info": {
   "codemirror_mode": {
    "name": "ipython",
    "version": 3
   },
   "file_extension": ".py",
   "mimetype": "text/x-python",
   "name": "python",
   "nbconvert_exporter": "python",
   "pygments_lexer": "ipython3",
   "version": "3.9.6"
  }
 },
 "nbformat": 4,
 "nbformat_minor": 5
}
