{
 "cells": [
  {
   "cell_type": "markdown",
   "id": "f74fe9bc-1ab6-4b4b-a2d2-8f6cc53858a1",
   "metadata": {},
   "source": [
    "# Vannevar Labs Dataset for NatSec Hackathon 2024"
   ]
  },
  {
   "cell_type": "markdown",
   "id": "b928fbf7-6d4a-43e3-b978-37a668b4ab75",
   "metadata": {},
   "source": [
    "Thanks for participating in the hackathon! This notebook is available at https://vl-nat-sec-hackathon-may-2024.s3.us-east-2.amazonaws.com/vl-data-download.ipynb, and we will be updating it over the course of the week with additional data and resources.\n",
    "\n",
    "The dataset we are providing are of Russian social media posts from Telegram and VK that are related to current geopolitical events, a lot of them specifically about events occurring in Ukraine. The data in `attachment_urls` are media files that we will be providing in the same s3 bucket later this week.\n",
    "\n",
    "If there are any issues with data access please email charu@vannevarlabs.com"
   ]
  },
  {
   "cell_type": "code",
   "execution_count": null,
   "id": "4b4a30f3-9a27-40cc-9c6c-9cf40140d98c",
   "metadata": {
    "tags": []
   },
   "outputs": [],
   "source": [
    "!pip install boto3 botocore pandas"
   ]
  },
  {
   "cell_type": "code",
   "execution_count": 2,
   "id": "88a135e1-30c3-4ffb-988d-2b0590349b7a",
   "metadata": {
    "tags": []
   },
   "outputs": [],
   "source": [
    "import boto3\n",
    "import pandas as pd\n",
    "from io import BytesIO\n",
    "from botocore import UNSIGNED\n",
    "from botocore.config import Config\n",
    "\n",
    "\n",
    "# # Create a boto3 session with an anonymous user\n",
    "# s3 = boto3.client('s3', config=Config(signature_version=UNSIGNED))\n",
    "\n",
    "# bucket_name = 'vl-nat-sec-hackathon-may-2024'\n",
    "# file_key = 'russia_social_media.csv'\n",
    "\n",
    "# # Get the object from S3\n",
    "# response = s3.get_object(Bucket=bucket_name, Key=file_key)\n",
    "\n",
    "# file_content = response['Body'].read()\n",
    "\n",
    "# Also available here: https://vl-nat-sec-hackathon-may-2024.s3.us-east-2.amazonaws.com/russia_social_media.csv\n",
    "\n"
   ]
  },
  {
   "cell_type": "code",
   "execution_count": 5,
   "id": "fc8ad7c1-9e9b-4062-8799-909e363fb555",
   "metadata": {
    "tags": []
   },
   "outputs": [
    {
     "name": "stdout",
     "output_type": "stream",
     "text": [
      "0    https://youtu.be/1H65fWYoaV8?si=sFwduH6AodNglB...\n",
      "1    🇷🇺🇺🇦The consequences of shelling of residentia...\n",
      "2    WE HAVE \"PLATES\".\\nDear subscribers! We share ...\n",
      "3    In Kamchatka, a formation of ships guarding th...\n",
      "4    How the traitor Kuzminov was eliminated. The c...\n",
      "Name: translation, dtype: object\n"
     ]
    }
   ],
   "source": [
    "# Load the file content into a pandas DataFrame\n",
    "data = pd.read_csv('../../deftech/russia_social_media.csv')"
   ]
  },
  {
   "cell_type": "code",
   "execution_count": 7,
   "id": "7c8e0a0a",
   "metadata": {},
   "outputs": [
    {
     "name": "stdout",
     "output_type": "stream",
     "text": [
      "0         https://youtu.be/1H65fWYoaV8?si=sFwduH6AodNglB...\n",
      "1         🇷🇺🇺🇦The consequences of shelling of residentia...\n",
      "2         WE HAVE \"PLATES\".\\nDear subscribers! We share ...\n",
      "3         In Kamchatka, a formation of ships guarding th...\n",
      "4         How the traitor Kuzminov was eliminated. The c...\n",
      "                                ...                        \n",
      "480496    Soldiers of one of the units of the Russian Ar...\n",
      "480497    ❗️The UN published a report on the torture of ...\n",
      "480498                So many questions and so few answers.\n",
      "480499    ❗️ChePushilin signed a Decree, according to wh...\n",
      "480500    Today is March 28, 2024. March 28, 1462—Ivan I...\n",
      "Name: translation, Length: 480501, dtype: object\n"
     ]
    }
   ],
   "source": [
    "print(data['translation'].to_string(index=False))\n"
   ]
  },
  {
   "cell_type": "code",
   "execution_count": 1,
   "id": "db9c432c-3414-48af-aa03-86120790268f",
   "metadata": {
    "tags": []
   },
   "outputs": [],
   "source": [
    "# In the same way, you can access the images in attachment_urls using s3.get_object - the urls should be 1-1 with the paths in s3\n",
    "\n",
    "# s3 = boto3.client('s3', config=Config(signature_version=UNSIGNED))\n",
    "\n",
    "# bucket_name = 'vl-nat-sec-hackathon-may-2024'\n",
    "# file_key = 'media/telegram-web/...'\n",
    "\n",
    "# # Get the object from S3\n",
    "# response = s3.get_object(Bucket=bucket_name, Key=file_key)\n"
   ]
  }
 ],
 "metadata": {
  "kernelspec": {
   "display_name": "Python 3 (ipykernel)",
   "language": "python",
   "name": "python3"
  },
  "language_info": {
   "codemirror_mode": {
    "name": "ipython",
    "version": 3
   },
   "file_extension": ".py",
   "mimetype": "text/x-python",
   "name": "python",
   "nbconvert_exporter": "python",
   "pygments_lexer": "ipython3",
   "version": "3.9.6"
  }
 },
 "nbformat": 4,
 "nbformat_minor": 5
}
