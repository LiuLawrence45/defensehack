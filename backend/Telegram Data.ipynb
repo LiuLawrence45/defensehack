{
 "cells": [
  {
   "cell_type": "markdown",
   "id": "f74fe9bc-1ab6-4b4b-a2d2-8f6cc53858a1",
   "metadata": {},
   "source": [
    "# Vannevar Labs Dataset for NatSec Hackathon 2024"
   ]
  },
  {
   "cell_type": "markdown",
   "id": "b928fbf7-6d4a-43e3-b978-37a668b4ab75",
   "metadata": {},
   "source": [
    "Thanks for participating in the hackathon! This notebook is available at https://vl-nat-sec-hackathon-may-2024.s3.us-east-2.amazonaws.com/vl-data-download.ipynb, and we will be updating it over the course of the week with additional data and resources.\n",
    "\n",
    "The dataset we are providing are of Russian social media posts from Telegram and VK that are related to current geopolitical events, a lot of them specifically about events occurring in Ukraine. The data in `attachment_urls` are media files that we will be providing in the same s3 bucket later this week.\n",
    "\n",
    "If there are any issues with data access please email charu@vannevarlabs.com"
   ]
  },
  {
   "cell_type": "code",
   "execution_count": null,
   "id": "4b4a30f3-9a27-40cc-9c6c-9cf40140d98c",
   "metadata": {
    "tags": []
   },
   "outputs": [],
   "source": [
    "!pip install boto3 botocore pandas"
   ]
  },
  {
   "cell_type": "code",
   "execution_count": 2,
   "id": "88a135e1-30c3-4ffb-988d-2b0590349b7a",
   "metadata": {
    "tags": []
   },
   "outputs": [],
   "source": [
    "import boto3\n",
    "import pandas as pd\n",
    "from io import BytesIO\n",
    "from botocore import UNSIGNED\n",
    "from botocore.config import Config\n",
    "\n",
    "\n",
    "# # Create a boto3 session with an anonymous user\n",
    "# s3 = boto3.client('s3', config=Config(signature_version=UNSIGNED))\n",
    "\n",
    "# bucket_name = 'vl-nat-sec-hackathon-may-2024'\n",
    "# file_key = 'russia_social_media.csv'\n",
    "\n",
    "# # Get the object from S3\n",
    "# response = s3.get_object(Bucket=bucket_name, Key=file_key)\n",
    "\n",
    "# file_content = response['Body'].read()\n",
    "\n",
    "# Also available here: https://vl-nat-sec-hackathon-may-2024.s3.us-east-2.amazonaws.com/russia_social_media.csv\n",
    "\n"
   ]
  },
  {
   "cell_type": "code",
   "execution_count": 5,
   "id": "fc8ad7c1-9e9b-4062-8799-909e363fb555",
   "metadata": {
    "tags": []
   },
   "outputs": [
    {
     "name": "stdout",
     "output_type": "stream",
     "text": [
      "0    https://youtu.be/1H65fWYoaV8?si=sFwduH6AodNglB...\n",
      "1    🇷🇺🇺🇦The consequences of shelling of residentia...\n",
      "2    WE HAVE \"PLATES\".\\nDear subscribers! We share ...\n",
      "3    In Kamchatka, a formation of ships guarding th...\n",
      "4    How the traitor Kuzminov was eliminated. The c...\n",
      "Name: translation, dtype: object\n"
     ]
    }
   ],
   "source": [
    "# Load the file content into a pandas DataFrame\n",
    "data = pd.read_csv('../../deftech/russia_social_media.csv')"
   ]
  },
  {
   "cell_type": "code",
   "execution_count": 26,
   "id": "4d4cdd58",
   "metadata": {},
   "outputs": [],
   "source": [
    "# Write the first 20 rows of the DataFrame to a CSV file\n",
    "data.head(20).to_csv('first_20_rows.csv', index=False)\n"
   ]
  },
  {
   "cell_type": "code",
   "execution_count": 37,
   "id": "e3615fe9",
   "metadata": {},
   "outputs": [
    {
     "name": "stdout",
     "output_type": "stream",
     "text": [
      "Destruction of an enemy radar and S-300 launcher in the Kharkov area.Russian intelligence and missile forces did an excellent job. Thanks to their well-coordinated work, the Ukrainian Nazis are minus another S-300 (launcher and radar), as well as personnel.Show moreExcellent work of our reconnaissance and strike complex, mercilessly and non-stop destroying the enemy on the Belgorod border and in the Kharkov region.This time, death from heaven overtook the 40V6M radar tower, the S-300 launcher and the personnel who serviced this equipment. This will happen to all our enemies sooner or later, there is no third option.\n",
      "\n",
      "\n",
      "#SVO@mpre_view1Destruction of the 40V6M universal tower with the 30N6 illumination and guidance radar on it, as well as the S-300PS air defense missile launcher of the Ukrainian army near the city of Zmiev in the Kharkov region.Show moreThe footage shows the impact of a familiar air-detonated missile on a valuable tower, as well as the detonation of solid fuel in the missile launcher.\n",
      "\n",
      "\n",
      "Beautiful footage of the destruction of the Ukrainian air defense position area on the outskirts of Zmiev, Kharkov region.Arrival coordinates: 49.72241181360301, 36.36809829269529The footage shows missile attacks on a universal mobile tower 40VM6 andShow morelauncher S-300PS, it was the solid-fuel anti-aircraft missiles of this launcher that beautifully boomed throughout Kharkov.Military Informant\n",
      "\n",
      "\n",
      "Forwarded from: Military InformantDestruction of the 40V6M universal tower with the 30N6 illumination and guidance radar on it, as well as the ZRKS-300PS launcher of the Ukrainian army near the city of Zmiev in the Kharkov region.The footage shows the impact of a familiar air-detonated missile on a valuable tower, as well as the detonation of solid fuel in the missile launcher. Video:@vysokygovoritMilitary Informant\n",
      "\n",
      "\n",
      "Destruction of the 40V6M universal tower with the 30N6 illumination and guidance radar on it, as well as the ZRKS-300PS launcher of the Ukrainian army near the city of Zmiev in the Kharkov region.The footage shows the impact of a familiar air-detonated missile on a valuable tower, as well as the detonation of solid fuel in the missile launcher. Video:@vysokygovoritMilitary Informant\n",
      "\n",
      "\n",
      "Two people died, five were injured - the police of Donetsk region collected evidence of war crimes of the Russian Federation , the villages of Zhelanne, Kurakhivka, Ocheretyne, the villages of Bogoyavlenka, Izmailivka, Mykolaivka. ➡️46 civilian objects were damaged - 27 residential buildings, dormitories, enterprises, farm buildings, garages, transport, power grids. a woman, another woman was injured. Two private houses were damaged. ➡️In Kurakhovo, Russian troops injured three civilians. 6 houses were damaged. ➡️Russia directed two S-300 missiles at Selidove, 15 private houses were destroyed.\n",
      "\n",
      "\n",
      "Turned to the Z war🇷🇺Photo,💥Missile strike on Kharkov.#situationAs it is...intelligence officers and missilemen caused a fuss. Thanks to teamwork, the opponent has minus S-300 (launcher and radar), as well as personnel, joyfully@stepnoy_veter\n",
      "\n",
      "\n",
      "Report of the Ministry of Defense of the Russian Federation (31.03.2024 Sun). MainThe Russian Aerospace Forces carried out a group strike with high-precision long-range air-launched weapons and unmanned aerial vehicles against energy infrastructure facilities and the gas production industry of Ukraine. As a result of the strike, the work of defense industry enterprises producing and repairing weapons, military equipment and ammunition was disrupted. In the Kupyansky direction. The losses of the Ukrainian Armed Forces were up to 25 military personnel and four vehicles. In addition, during the counter-battery battle, the following were damaged: the Msta-B howitzer, the D-20 gun, the Gvozdika self-propelled artillery unit, the Grad multiple launch rocket system combat vehicle, the Nota electronic warfare station, as well as the Ukrainian Armed Forces’ ammunition depot. In the Donetsk direction. The Ukrainian Armed Forces lost over 300 military personnel, two combat armored vehicles, eight vehicles, two D-20 guns, a D-30 howitzer, a D-44 cannon, a Bukovel-AD electronic warfare station, as well as two warehouses with artillery ammunition. In the Avdiivka direction. The enemy lost up to 300 military personnel, two combat armored vehicles, two vehicles, and also a reconnaissance and electronic warfare station. In the South Donetsk direction. The enemy lost up to 85 military personnel, two tanks, five cars, two howitzers: M777 and M198 made in the USA, as well as an ammunition depot of the Ukrainian Armed Forces. In the Kherson direction. Losses of the Ukrainian Armed Forces: up to 50 military personnel, three vehicles, a US-made M777 howitzer, an Akatsiya self-propelled artillery mount and a D-20 gun. Three Su-25 aircraft of the Ukrainian Air Force were destroyed.In addition, the following were destroyed: an illuminated and guidance radar, a combat control vehicle, a low-altitude detector and three launchers of the S-300 anti-aircraft missile system, two ammunition depots, and also damaged: an assembly and storage workshop for unmanned aerial vehicles. In total, since the beginning of the special military operation, the following have been destroyed: 580 aircraft, 270 helicopters, 17,951 unmanned aerial vehicles. body apparatus, 492 anti-aircraft missile systems, 15650 tanks and others armored combat vehicles, 1258 combat vehicles of multiple launch rocket systems, 8594 field artillery guns and mortars, as well as 20433 units of special military vehicles. Numbers in comparison: day, week, month Source: part 1, part 2 #SummariesDenazification⬆️⬇️⏏️*️⃣➖TelegramDiscussions-VI E.W. MESSAGE\n",
      "\n",
      "\n",
      "#Kharkov#Air Defense Footage of the destruction of the launcher, radar and crew of the S-300 air defense system of the Ukrainian Armed Forces in the Kharkov direction\n",
      "\n",
      "\n",
      "Death from heaven overtook the 40V6M radar tower, the S-300 launcher and the enemy personnel who serviced this equipment.\n",
      "\n",
      "\n",
      "Ukraine began to receive more ammunition for the German Gepard air defense systems - source BILDIn the summer, BILD reported that Germany did not have enough ammunition for the Gepard anti-aircraft self-propelled guns. Due to the shortage, Ukrainian anti-aircraft gunners were forced to save them. Soon the German Ministry of Defense announced that they were increasing supplies. Recently, in a conversation with BILD, an Ukrainian Armed Forces officer confirmed that the supply of ammunition to the Cheetahs had indeed improved somewhat.This is especially important now, as Russia has stepped up its attacks on Ukrainian infrastructure. For example, it attacked the Dnieper Hydroelectric Power Station and the Zmievskaya Thermal Power Plant near Kharkov. Cheetahs performed particularly well in the fight against Iranian Shaheed drones. But their range is limited, so they do not help against missiles. For this purpose, the Armed Forces of Ukraine are armed with the Soviet S-300 complexes, as well as the Western Patriot, IRIS-T, SAMP/T and NASAMS. The Ukrainian Foreign Ministry calls for more air defense systems to be supplied to the country, especially Patriot.\n",
      "\n",
      "\n",
      "We consider it necessary to critically comment on Aitech Bizhev’s speech. Of course, today our air attack weapons dominate the battlefield and the Ukrainian air defense system cannot cope with them, but underestimating it is a very dangerous mistake.In addition, there are a number of controversial points in the ex-commander’s speech. And the first of them is the technical backwardness of the Ukrainian air defense system. Let us quote General Bizhev: “...I note that the transfer of information is carried out manually, since Western “Patriots” are not integrated into the automated Ukrainian air defense system...”. This is, to put it mildly, not true!Ukrainian air defense has been integrated into the unified NATO air defense system in Europe for more than a year now, and it is the information capabilities of European air defense that are the basis for the functioning of Ukrainian air defense. All Patriot, NASAMS, Iris-T air defense systems and the remaining Ukrainian S-300 and Buk M1 air defense systems are combined into a single combat circuit, based on high-speed automated control systems connected to NATO air defense automated control systems and receive information about the air situation from American and European radars, aircraft and AWACS UAVs, as well as satellites. That is why air raid alerts in Ukraine are most often announced immediately after the takeoff of our strike aircraft!Do the air defense systems available to the Armed Forces of Ukraine have the ability to shoot down our hypersonic missiles? You must understand that under certain conditions, any target can be shot down. Suffice it to recall how, literally on the second day of the NATO air war against the SFRY, the Yugoslav S-125 air defense system shot down a B-2 stealth bomber. Therefore, the question must be posed differently: are the air defense systems available to the Ukrainian Armed Forces capable of becoming an effective weapon against Russian hypersonic missiles?The latest ERINT missile defense system for the Patriot air defense system is capable of intercepting targets moving along a ballistic trajectory at a speed of 1600 m/s - 5760 km/h, but provided that the target does not maneuver.At the same time, our hypersonic “Dagger” has a maximum speed when flying to a target - Mach 10-12 (Mach 1 is conventionally equal to the speed of sound, that is, 340 m/s or 1224 km/h). It would seem - there are no options! But the fact is that in dense layers of air near the ground, its speed decreases somewhat, and if accurate advance information is received about the moment of missile launch, launch parameters and the direction from which the missile is approaching, the latest modification of the Patriot has a chance of intercepting it. American air defense systems are not capable of shooting down missiles of the Zircon family. But here we come to the second question: is today’s Ukrainian air defense an effective system for countering Russian “hypersonics” and here the answer is unequivocal - no! \"Patriots\" are only capable of occasionally intercepting such targets, but are unable to cover targets and protect themselves. To do this, Ukrainian air defense needs to be increased by an order of magnitude! Increase its density by at least three to five times. But even then, the percentage of hypersonic targets shot down will not exceed 50%, and even then, such as the Kinzhal. And it can be assumed that the West and the United States will soon increase supplies of air defense systems to the Zelensky regime. https://mk-ru.turbopages.org/turbo/mk.ru/s/politics/2024/03/30/general-bizhev- rasskazal-sposobna-li-ukrainskaya-pvo-sbit-rossiyskiy-cirkon.htmlRAMZAYMoskovsky Komsomolets (MK)General Bizhev told whether Ukrainian air defense is capable of shooting down the Russian Zircon\"All statements about the interception of these missiles are from the evil one\" One of the most discussed events last week - the use of Russian hypersonic cancer...\n",
      "\n",
      "\n",
      "Elimination of S-300 Ukrainian Armed Forces today in the Kharkov direction@vsy200\n",
      "\n",
      "\n",
      "Destruction of an enemy radar and S-300 launcher in the Kharkov area.Russian intelligence and missile forces did an excellent job. Thanks to their well-coordinated work, the Ukrainian Nazis are minus another S-300 (launcher and radar), as well as personnel.Show moreExcellent work of our reconnaissance and strike complex, mercilessly and non-stop destroying the enemy on the Belgorod border and in the Kharkov region.This time, death from heaven overtook the 40V6M radar tower, the S-300 launcher and the personnel who serviced this equipment. This will happen to all our enemies sooner or later, there is no third option.\n",
      "\n",
      "\n",
      "❗️Russian troops have intensified shelling of the mainland of Ukraine from the territory of occupied Crimea. Speaker of the Ukrainian Volunteer Army “South” Sergei Bratchuk spoke about this. “This is due to the fact that temporarily occupied Crimea, as a military hub, is saturated with weapons and air defense systems. The Ukrainian Defense Forces are managing to penetrate these air defense systems, and the intensity of our strikes will increase. But here there are questions for our allies and partners: where are the long-range missiles that should help us in the demilitarization of Crimea?” Bratchuk said. There is a direct threat of ballistic missile strikes from the Russian troops located in Crimea.“Ballistics” are practically not knocked down, except by complexes that we lack today - these are the American Patriot (“Patriot”) and the French-Italian SAMP/T air defense systems. We are not talking about one launcher; an integrated approach is needed in their supply to Ukraine. That is, not one battery, but several batteries. If we resolve this issue, then we will protect our sky. Therefore, I hope that in the near future the enemy’s “ballistics” will be disrupted,” the speaker emphasized.Bratchuk recalled that Crimea is not such a large territory for modern weapons, and the Ukrainian Defense Forces can reach almost any military facility of the occupiers on the peninsula.“Today it is not safe for the occupiers to be on the territory of the temporarily occupied Crimea, because today there is not a single location that cannot be reached by the fire weapons of the Ukrainian Defense Forces. Yes, we would like the destruction to take place more actively - several ballistics launchers, for example, the same S-300 or Bastions, so that planes, ships, command posts and so on are destroyed. But this is a big and difficult job,” he continued. YouTube The Ukrainian Armed Forces will reach Russians everywhere. Ukrainian missiles reach their targetsRussian occupiers in the southern direction do not stop attacking with missiles and kamikaze drones. On the left bank of the Dnieper, Russians are on constant assault...\n",
      "\n",
      "\n",
      "Forwarded from: Creamy Caprice31.03.24 Kharkov - KonstantivkaDestruction of air defense systems of the Ukrainian Armed Forces.Missile strike on the position of the Ukrainian S-300 anti-aircraft missile system. Destruction of an air defense missile launcher and a mobile tower with illumination and guidance radar.Distance from the demarcation line up to 60 km.Area affected 49.776667 36.270286 Source https://t.me/vysokygovorit/15219 Georeferencing\n",
      "\n",
      "\n",
      "I wrote a post here a couple of hours ago about the destruction of the radar and the launcher from the S-300 Ukrainian in the Kharkov area. Good Russian people believe in destruction, crests squeal about proofs, without which they say everything is nonsense. The video shows the very proofs and excellent work of our reconnaissance and strike complex, mercilessly and non-stop destroying the enemy on the Belgorod border and in the Kharkov region. This time, death from heaven overtook the 40V6M radar tower, the S-300 launcher and the personnel who serviced this equipment. This will happen to all our enemies sooner or later, there is no third option.\n",
      "\n",
      "\n",
      "Destruction of the 40V6M universal tower with the 30N6 illumination and guidance radar on it, as well as the ZRKS-300PS launcher of the Ukrainian army near the city of Zmiev in the Kharkov region.The footage shows the impact of a familiar air-detonated missile on a valuable tower, as well as the detonation of solid fuel in the missile launcher.\n",
      "\n",
      "\n",
      "Footage of the destruction of the 30N6 radar, S-300 launcher and Ukrainian Armed Forces personnel in the Kharkov area.\n",
      "\n",
      "\n",
      "From the feedback botValery MVladislav Vladislavovich! Each of your posts about the problems of our air defense resonates with pain in my heart, but, as a graduate of the country’s Pushkin Higher Air Defense School, every time I cannot understand - how? When launching a missile defense system, when you press the “start” and “launch blocking” keys, the request “friend/foe” automatically occurs, and if God forbid, “friend”, then the launch is blocked! This happened on my beloved S-200, it happened on the S-300... I don’t think that today’s systems work any differently. In our time, according to the schedule, we opened special envelopes and changed the codes on the “Password” requestor.... it turns out that either the technician at the airfield or the air defense missile officer on duty did not do it on time? Then this is already a serious question for a special department?! https://t.me/RamzayConnectBotTelegramConnect@RAMZAY🇷🇺Ramzay channel feedback botVIEW BOT\n",
      "\n",
      "\n"
     ]
    },
    {
     "data": {
      "text/plain": [
       "[None,\n",
       " None,\n",
       " None,\n",
       " None,\n",
       " None,\n",
       " None,\n",
       " None,\n",
       " None,\n",
       " None,\n",
       " None,\n",
       " None,\n",
       " None,\n",
       " None,\n",
       " None,\n",
       " None,\n",
       " None,\n",
       " None,\n",
       " None,\n",
       " None,\n",
       " None]"
      ]
     },
     "execution_count": 37,
     "metadata": {},
     "output_type": "execute_result"
    }
   ],
   "source": [
    "res = data[data['translation'].str.contains('S-300', na=False)]['translation']\n",
    "[print(res.iloc[x].replace(\"\\n\", \"\") + \"\\n\\n\") for x in range(0, 20) ]\n",
    "\n"
   ]
  },
  {
   "cell_type": "code",
   "execution_count": 18,
   "id": "7c8e0a0a",
   "metadata": {},
   "outputs": [
    {
     "name": "stdout",
     "output_type": "stream",
     "text": [
      "300 Forwarded from: ColonelcassadThe first attack of assault drones in history. In Berdychi, which is now being liberated by Russian troops, a new promising Russian robotic platform was field tested.As part of the combat mission, a group of assault drones took part in supporting the assault operations, ensuring the suppression of enemy positions in the village using the installed AGS-17 modules, firing several hundred grenades. During combat use, drones showed good results. The drones were able to continue operating even in conditions where losses of personnel and expensive equipment from enemy fire would have been inevitable.The experience gained in combat use will be taken into account in the further production and development of assault robotic platforms. The combat use of such drones in Berdychi is actually similar to the first tank attack during the First World War.A successful tracked base has great potential for developing a robotic platform for assault (installation of various combat modules) and support operations (transportation and installation of mines, removal of the wounded, transportation of cargo and equipment).In the future, such platforms will take their place on the battlefield. Despite the fact that there are similar developments in the USA, Britain and China, it was Russia that was the first to use a group of assault drones in a real war.The project is being implemented with the support of Boris Rozhin and Chingis Dambiev. The future has already arrived.\n",
      "\n",
      "\n",
      "301 Forwarded from: 🇺🇦Ivan Fedorov / Zaporizhia Region / Zaporizhzhia🔥The occupiers die \"with fire\" from our drones.National Guardsmen of the \"Kara-Dag\" brigade showed how drones help destroy the enemy.That is why the next tenders of \"Zaporizhsky billion\" for 150 million hryvnias also provide for the purchase of FPV drones - so that the enemy has no chance. 🇺🇦Helping the military - bringing victory closer!\n",
      "\n",
      "\n",
      "302 Two more aerial bombs “dropped” racist planes on the Belgorod region, - AstraThus, 14 aerial bombs have already fallen in the region in two weeks. According to the publication, two FAB-500s were found 2 km from the village of Kryukovo on March 30.\n",
      "\n",
      "\n",
      "303 Thousands of activists gathered in Jerusalem demanding early elections in Israel and a deal for the release of hostages. Holding early elections in the country would paralyze the country and freeze negotiations on the release of hostages from the Palestinian Hamas movement for six to eight months, Prime Netanyahu responded.A day earlier, the largest anti-government protests took place in Tel Aviv\n",
      "\n",
      "\n",
      "304 A state of emergency was introduced in the Altai Territory due to flooding; now there are almost 500 houses and more than 900 garden plots in the flood zone. Rescuers in wetsuits are evacuating people and pets from the flood zone. @radiomirby\n",
      "\n",
      "\n",
      "305 🔥DIVINE PIZZA🔥TASTY PIZZA WITH DELICIOUS PROMOTIONS🔥Promotion 2+1🔥🔥Promotion 3+2🔥♨️Free delivery to your homeYou can place an order on our website🌐https://divine-pizza.ru🚀From 10:00-21:00 we are always in touch and happy to help you with your choice📲+79497511829 Makeevka📲+79497511737 DonetskOur social networks:☑️https://t.me/divine_pizza☑️https://instagram.com/divinepizza.dn?igshid=YmMyMTA2M2Y=\n",
      "\n",
      "\n",
      "306 🇫🇷🇷🇺Russian athletes will not be welcome in Paris at the 2024 Olympics, - Mayor Anne HidalgoRussian and Belarusian athletes will “not be welcome” in Paris during the 2024 Olympics, the head of the French capital said in an interview with a journalist from the Le Monde newspaper. “I want to tell Russian and Belarusian athletes that they will not be welcome in Paris. And I want to tell Ukrainian athletes and the entire Ukrainian people that we support them very much,” she said. Russian athletes will be allowed to the Olympics only under a neutral flag. Was such humiliation necessary to participate in such a politicized gathering?\n",
      "\n",
      "\n",
      "307 Forwarded from: Frontline BirdIt is reported that our defense industry has modernized the X-101 cruise missile: now its warhead carries almost twice as much explosives.The weight of the previous warhead was about 400 kg. In the new X-101, we are not talking about a simple increase in the weight of one warhead, but about solutions with the placement of two separate warheads inside the rocket.Don't forget also about a large additional number of heat traps. Front bird.Subscribe\n",
      "\n",
      "\n",
      "308 Revenge for the Stork in the Zaporozhye directionA week ago, an enemy air defense complex shot down our Stork, and the guys promised to find and kill it. Tracked down and destroyed together with the calculation.And on the way back, they discovered an enemy cannon that was firing at the positions of our defense forces. The information was passed on to the artillery of the 44 OABr and ...💥direct hit from the first shotAir work of the company UBpAK LUFTWAFFE 129 OBrTelegramWhatsAppInstagram\n",
      "\n",
      "\n",
      "309 👀President of Moldova Sandu congratulated those who celebrate it today on Easter. If we were those being congratulated, we would not delude ourselves.\n",
      "\n",
      "\n",
      "310 An assault group of fagots was destroyed in the village of #Pervomaiskoye, through the lens of the operator of the 11th separate motorized infantry battalion “Kievan Rus”🔥💥💪🇺🇦\n",
      "\n",
      "\n",
      "311 The actions of members of the RDK* cell are beneficial to Kyiv, since they “distract the forces of the Russian Armed Forces at the front,” Budanov said.At the same time, according to him, such units can only operate in the border areas, and “they will not be able to reach Moscow with weapons.”Earlier, the director of the FSB of Russia, Bortnikov, stated that the special services will do everything to find and punish traitors who operate as part of Ukrainian terrorist units. * The organization is recognized as terrorist and is banned in Russia\n",
      "\n",
      "\n",
      "312 Vladimir Putin signed a decree “On the conscription of citizens of the Russian Federation for military service in April - July 2024 and on the dismissal from military service of citizens undergoing military service under conscription.”\n",
      "\n",
      "\n",
      "313 Caucasian Bureau || Caucasian BureauAlbum, A farewell ceremony was held for seven people whose remains were discovered and identified in the fraternal mass...◾️The remains of seven people were brought to Khojaly. They will be buried on the Alley of Martyrs in this city.1. Aliyev Agali Naib oglu, 06/01/1933;2. Aliyeva Suraya Behbud gizi, 06/01/1933;3. Najafov Shiraslan Gamish oglu, 1952;4. Selimov Khazar Sayavush oglu, 09/01/1974;5. Selimova Tamila Agamirze gizi, 06/01/1935;6. Javadov Ali Musul oglu, 06/15/1954;7. Ismailov Ismail Bakhman oglu, 08/01/1955.@Caucasian_bureau\n",
      "\n",
      "\n",
      "314 African media talk about how employees of the Indian corporation HAL carry out maintenance and repair of six Su-30MK2 fighters of the Uganda Air Force. The defense department of the African country and the Indian corporation signed a corresponding memorandum.Su-30MK2 fighter jets were purchased by Uganda for $325 million from Russia. The contract was fully completed in June last year. Six Su-30MKs have joined the Ugandan Air Force's fleet of seven MiG-21 fighters.An amazing and at the same time revealing story. We sell weapons, and their maintenance is carried out not even by Belarusians and Ukrainians (which is a common story), but by Indians🤦🏼‍♂️#uganda#india\n",
      "\n",
      "\n",
      "315 The weather in Magadan is wonderful in its own way in any form. Whether it's a bright frosty morning, or the eve of a strong snow stormRA-01118 -Antonov AN 2R – Polar-Avia - Magadan-13 - UHMT, Russia\n",
      "\n",
      "\n",
      "316 Who are stormtroopers? These are the most ordinary guys who do their difficult work. We show our everyday life, work, and sometimes give advice to the guys who have just arrived at the Northern Military District.We would like to share that part of us that no one will show you. Always positive and driven, protecting your peaceful life. Russian Navy SEALs.P.S. We are engaged not only in Denazification, Demilitarization, but also in Depedorization of Ukraine. Subscribe if you want to receive more information from the front: @Mozzart\n",
      "\n",
      "\n",
      "317 Russian athletes will not be welcome in Paris at the 2024 Olympics, - Mayor Anne HidalgoRussian and Belarusian athletes will “not be welcome” in Paris during the 2024 Olympics, the head of the French capital said in an interview with a journalist from the Le Monde newspaper. “I want to tell Russian and Belarusian athletes that they will not be welcome in Paris. And I want to tell Ukrainian athletes and the entire Ukrainian people that we support them very much,” she said. Russian athletes will be allowed to the Olympics only under a neutral flag. Did you need such humiliation to participate in such a politicized gathering?👉Subscribe👈\n",
      "\n",
      "\n",
      "318 They finished off their own with dronesUkrainian prisoner of war Dmitry Dubin told how the command of the Ukrainian Armed Forces finishes off its fighters who survived unsuccessful “meat assaults” so that they do not try to surrender.“Not only were they defeated, but they were also trying to finish him off so that he would not surrender. One said that Ukrainian drones flew into his basement. They tried to finish him off so that he would not be captured and would not give up his position,” says the prisoner.\"War Criminals\"\n",
      "\n",
      "\n",
      "319 ZvezdanewsPhoto, CTO regime introduced in Makhachkala and KaspiyskDuring the CTO period until further notice...Several terrorists were blocked in apartmentsMakhachkala and Kaspiysk During the operational search activities carried out by the security authorities in Dagestan, information was received about the whereabouts of armed persons involved in terrorist activities. Tonight they were blocked by FSB special forces in several apartments in residential areas of Makhachkala and Kaspiysk. The National Anti-Terrorism Committee reported this to Zvezda.Residents of adjacent houses are currently being evacuated. Subscribe to Zvezdanews|Suggest news\n",
      "\n",
      "\n",
      "320 Forwarded from: Times of Ukraine❗️~1000 km of fortifications, 3 defense rings of Kyiv+ have greatly strengthened the Chernobyl direction, — Commander of the Ground Forces Oleksandr Pavlyuk.\"We did everything so that there were no options for a surprise attack by the enemy.\" Times of Ukraine\n",
      "\n",
      "\n",
      "321 📹How the Ukrainian Armed Forces tank was destroyed in Krasnogorovka We recently showed the destruction of the Ukrainian Armed Forces tank in Krasnogorovka, and today we will talk about exactly how the enemy armored vehicles were destroyed.A report about the heroic crew of the anti-tank missile system of the 5th brigade of the 1st Donetsk Army Corps, which burned a Ukrainian tank, despite active opposition from the enemy.People's Militia of the DPR\n",
      "\n",
      "\n"
     ]
    },
    {
     "ename": "AttributeError",
     "evalue": "'float' object has no attribute 'replace'",
     "output_type": "error",
     "traceback": [
      "\u001b[0;31m---------------------------------------------------------------------------\u001b[0m",
      "\u001b[0;31mAttributeError\u001b[0m                            Traceback (most recent call last)",
      "Cell \u001b[0;32mIn[18], line 1\u001b[0m\n\u001b[0;32m----> 1\u001b[0m [\u001b[38;5;28mprint\u001b[39m(x, data[\u001b[38;5;124m'\u001b[39m\u001b[38;5;124mtranslation\u001b[39m\u001b[38;5;124m'\u001b[39m][x]\u001b[38;5;241m.\u001b[39mreplace(\u001b[38;5;124m\"\u001b[39m\u001b[38;5;130;01m\\n\u001b[39;00m\u001b[38;5;124m\"\u001b[39m, \u001b[38;5;124m\"\u001b[39m\u001b[38;5;124m\"\u001b[39m) \u001b[38;5;241m+\u001b[39m \u001b[38;5;124m\"\u001b[39m\u001b[38;5;130;01m\\n\u001b[39;00m\u001b[38;5;130;01m\\n\u001b[39;00m\u001b[38;5;124m\"\u001b[39m) \u001b[38;5;28;01mfor\u001b[39;00m x \u001b[38;5;129;01min\u001b[39;00m \u001b[38;5;28mrange\u001b[39m(\u001b[38;5;241m300\u001b[39m, \u001b[38;5;241m330\u001b[39m) ]\n",
      "Cell \u001b[0;32mIn[18], line 1\u001b[0m, in \u001b[0;36m<listcomp>\u001b[0;34m(.0)\u001b[0m\n\u001b[0;32m----> 1\u001b[0m [\u001b[38;5;28mprint\u001b[39m(x, \u001b[43mdata\u001b[49m\u001b[43m[\u001b[49m\u001b[38;5;124;43m'\u001b[39;49m\u001b[38;5;124;43mtranslation\u001b[39;49m\u001b[38;5;124;43m'\u001b[39;49m\u001b[43m]\u001b[49m\u001b[43m[\u001b[49m\u001b[43mx\u001b[49m\u001b[43m]\u001b[49m\u001b[38;5;241;43m.\u001b[39;49m\u001b[43mreplace\u001b[49m(\u001b[38;5;124m\"\u001b[39m\u001b[38;5;130;01m\\n\u001b[39;00m\u001b[38;5;124m\"\u001b[39m, \u001b[38;5;124m\"\u001b[39m\u001b[38;5;124m\"\u001b[39m) \u001b[38;5;241m+\u001b[39m \u001b[38;5;124m\"\u001b[39m\u001b[38;5;130;01m\\n\u001b[39;00m\u001b[38;5;130;01m\\n\u001b[39;00m\u001b[38;5;124m\"\u001b[39m) \u001b[38;5;28;01mfor\u001b[39;00m x \u001b[38;5;129;01min\u001b[39;00m \u001b[38;5;28mrange\u001b[39m(\u001b[38;5;241m300\u001b[39m, \u001b[38;5;241m330\u001b[39m) ]\n",
      "\u001b[0;31mAttributeError\u001b[0m: 'float' object has no attribute 'replace'"
     ]
    }
   ],
   "source": [
    "[print(x, data['translation'][x].replace(\"\\n\", \"\") + \"\\n\\n\") for x in range(300, 330) ]\n"
   ]
  },
  {
   "cell_type": "code",
   "execution_count": 19,
   "id": "db9c432c-3414-48af-aa03-86120790268f",
   "metadata": {
    "tags": []
   },
   "outputs": [
    {
     "data": {
      "text/plain": [
       "id                              0bb18152-2a20-5157-8c53-98424ee1480b\n",
       "time                                             2024-03-31 19:08:55\n",
       "body               Уничтожена штурмовая группа пидоров в н.п.#Пер...\n",
       "translation        An assault group of fagots was destroyed in th...\n",
       "external_url                                   https://t.me/akzentzp\n",
       "profile_type                                                telegram\n",
       "description        Telegram focused on  Russia's war against Ukra...\n",
       "name                                                        akzentzp\n",
       "attachment_urls    media/telegram-web/89a12205-0afa-4054-82b3-161...\n",
       "Name: 310, dtype: object"
      ]
     },
     "execution_count": 19,
     "metadata": {},
     "output_type": "execute_result"
    }
   ],
   "source": [
    "# In the same way, you can access the images in attachment_urls using s3.get_object - the urls should be 1-1 with the paths in s3\n",
    "\n",
    "# s3 = boto3.client('s3', config=Config(signature_version=UNSIGNED))\n",
    "\n",
    "# bucket_name = 'vl-nat-sec-hackathon-may-2024'\n",
    "# file_key = 'media/telegram-web/...'\n",
    "\n",
    "# # Get the object from S3\n",
    "# response = s3.get_object(Bucket=bucket_name, Key=file_key)\n",
    "\n",
    "data.iloc[310]\n"
   ]
  },
  {
   "cell_type": "code",
   "execution_count": 25,
   "id": "1addac52",
   "metadata": {},
   "outputs": [
    {
     "ename": "ModuleNotFoundError",
     "evalue": "No module named 'langchain_openai'",
     "output_type": "error",
     "traceback": [
      "\u001b[0;31m---------------------------------------------------------------------------\u001b[0m",
      "\u001b[0;31mModuleNotFoundError\u001b[0m                       Traceback (most recent call last)",
      "Cell \u001b[0;32mIn[25], line 4\u001b[0m\n\u001b[1;32m      2\u001b[0m \u001b[38;5;28;01mimport\u001b[39;00m \u001b[38;5;21;01mdotenv\u001b[39;00m\n\u001b[1;32m      3\u001b[0m \u001b[38;5;28;01mimport\u001b[39;00m \u001b[38;5;21;01mos\u001b[39;00m\n\u001b[0;32m----> 4\u001b[0m \u001b[38;5;28;01mfrom\u001b[39;00m \u001b[38;5;21;01mlangchain_openai\u001b[39;00m \u001b[38;5;28;01mimport\u001b[39;00m ChatOpenAI\n\u001b[1;32m      5\u001b[0m \u001b[38;5;28;01mfrom\u001b[39;00m \u001b[38;5;21;01mlangchain\u001b[39;00m\u001b[38;5;21;01m.\u001b[39;00m\u001b[38;5;21;01mprompts\u001b[39;00m \u001b[38;5;28;01mimport\u001b[39;00m ChatPromptTemplate\n\u001b[1;32m      6\u001b[0m \u001b[38;5;28;01mfrom\u001b[39;00m \u001b[38;5;21;01mlangchain\u001b[39;00m\u001b[38;5;21;01m.\u001b[39;00m\u001b[38;5;21;01mschema\u001b[39;00m\u001b[38;5;21;01m.\u001b[39;00m\u001b[38;5;21;01moutput_parser\u001b[39;00m \u001b[38;5;28;01mimport\u001b[39;00m StrOutputParser\n",
      "\u001b[0;31mModuleNotFoundError\u001b[0m: No module named 'langchain_openai'"
     ]
    }
   ],
   "source": [
    "\n"
   ]
  },
  {
   "cell_type": "code",
   "execution_count": null,
   "id": "9915c90d",
   "metadata": {},
   "outputs": [],
   "source": []
  }
 ],
 "metadata": {
  "kernelspec": {
   "display_name": "Python 3 (ipykernel)",
   "language": "python",
   "name": "python3"
  },
  "language_info": {
   "codemirror_mode": {
    "name": "ipython",
    "version": 3
   },
   "file_extension": ".py",
   "mimetype": "text/x-python",
   "name": "python",
   "nbconvert_exporter": "python",
   "pygments_lexer": "ipython3",
   "version": "3.9.6"
  }
 },
 "nbformat": 4,
 "nbformat_minor": 5
}
